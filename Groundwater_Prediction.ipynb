{
 "cells": [
  {
   "cell_type": "code",
   "execution_count": null,
   "id": "f3f2a40e-a012-4c61-aa7d-02e4cd659dbb",
   "metadata": {},
   "outputs": [],
   "source": [
    "\n",
    "#Idea: Prediction of groundwater levels: I came across a research paper titled \n",
    "#\"Groundwater Prediction Using Machine-Learning Tools\" (https://www.mdpi.com/1999-4893/13/11/300) \n",
    "#and thought of comparing results from regression analysis, SVM and random forests to predict the \n",
    "#groundwater levels in India. I use values of precipitation (pr), altitude (alt), \n",
    "#average annual temperature (at) and distance from sea (dsea) to predict the groundwater levels.  \n",
    "\n",
    "#Progress: Managed to run basic GLM and SVM models - I need to undersand the math better to improve them.\n"
   ]
  },
  {
   "cell_type": "code",
   "execution_count": null,
   "id": "a0774f39-3628-4ec5-9e06-eba50401ff2f",
   "metadata": {},
   "outputs": [],
   "source": [
    "import pandas as pd\n",
    "import numpy as np\n",
    "import plotly.graph_objects as go\n",
    "import statsmodels.api as sm\n",
    "import statsmodels.formula.api as smf\n",
    "from sklearn import datasets\n",
    "from sklearn.model_selection import train_test_split\n",
    "from sklearn.svm import SVC\n",
    "from sklearn.metrics import accuracy_score\n",
    "import warnings\n",
    "warnings.simplefilter(action='ignore', category=pd.errors.PerformanceWarning)\n",
    "\n",
    "def clear_dataframe():\n",
    "    return pd.DataFrame()"
   ]
  },
  {
   "cell_type": "code",
   "execution_count": null,
   "id": "70341e37-479c-45bd-bc47-f389c79451a3",
   "metadata": {},
   "outputs": [],
   "source": [
    "#Converting the dta files from American Economic Association Journal's Appendix (paper titled \"Wells, Water, and Welfare: The Impact of Access to Groundwater on Rural Poverty and Conflict\")\n",
    "\n",
    "iac = pd.io.stata.read_stata(r'C:\\Users\\vishe\\Downloads\\113902-V1\\Data-and-Read-Me\\AEJ_IAC.dta')\n",
    "iac.to_csv(r'C:\\Users\\vishe\\Downloads\\113902-V1\\Data-and-Read-Me\\AEJ_IAC.csv')"
   ]
  },
  {
   "cell_type": "code",
   "execution_count": null,
   "id": "d392ed75-4792-4ef7-a08a-fd21d744f8f2",
   "metadata": {},
   "outputs": [],
   "source": [
    "\n",
    "def aquifer_depth_str(dmaq2, dmaq3):\n",
    "    if dmaq3 == 1:\n",
    "        return 'high'\n",
    "    elif dmaq2 == 1:\n",
    "        return 'medium'\n",
    "    else:\n",
    "        return 'low'\n",
    "\n",
    "# Create a new column 'aquifer_depth_str'\n",
    "iac['aquifer_depth_str'] = iac.apply(lambda row: aquifer_depth_str(row['dmaq2'], row['dmaq3']), axis=1)\n",
    "\n",
    "def aquifer_depth(dmaq2, dmaq3):\n",
    "    if dmaq3 == 1:\n",
    "        return 3\n",
    "    elif dmaq2 == 1:\n",
    "        return 2\n",
    "    else:\n",
    "        return 1\n",
    "\n",
    "# Create a new column 'aquifer_depth'\n",
    "iac['aquifer_depth'] = iac.apply(lambda row: aquifer_depth(row['dmaq2'], row['dmaq3']), axis=1)\n",
    "\n",
    "columns_to_concat = ['alt', 'dsea', 'at', 'pr', 'aquifer_depth_str', 'aquifer_depth']\n",
    "iac = pd.concat([iac[columns_to_concat]], axis=1)\n"
   ]
  },
  {
   "cell_type": "code",
   "execution_count": null,
   "id": "8ca72938-f15f-4477-a342-86ee86e12d3c",
   "metadata": {},
   "outputs": [],
   "source": [
    "#Understanding the data\n",
    "\n",
    "columns_analyse=['alt', 'dsea', 'at', 'pr', 'aquifer_depth']\n",
    "\n",
    "iac_analyse=iac[columns_analyse]\n",
    "\n",
    "#correlation\n",
    "correlation = iac_analyse.corr()\n",
    "#tick labels\n",
    "matrix_cols = correlation.columns.tolist()\n",
    "#convert to array\n",
    "corr_array  = np.array(correlation)\n",
    "#Plotting\n",
    "trace = go.Heatmap(z = corr_array,\n",
    "                   x = matrix_cols,\n",
    "                   y = matrix_cols,\n",
    "                   xgap = 2,\n",
    "                   ygap = 2,\n",
    "                   colorscale='Rainbow',\n",
    "                   colorbar   = dict() ,\n",
    "                  )\n",
    "layout = go.Layout(dict(title = 'Correlation Matrix',\n",
    "                        autosize = False,\n",
    "                        height  = 720,\n",
    "                        width   = 800,\n",
    "                        margin  = dict(r = 0 ,l = 210,\n",
    "                                       t = 25,b = 210,\n",
    "                                     ),\n",
    "                        yaxis   = dict(tickfont = dict(size = 9)),\n",
    "                        xaxis   = dict(tickfont = dict(size = 9)),\n",
    "                       )\n",
    "                  )\n",
    "fig = go.Figure(data = [trace],layout = layout)\n",
    "fig.show()"
   ]
  },
  {
   "cell_type": "code",
   "execution_count": null,
   "id": "0df249b5-9bed-4922-89d3-9c78fdc0c7a0",
   "metadata": {},
   "outputs": [],
   "source": [
    "iac.head"
   ]
  },
  {
   "cell_type": "code",
   "execution_count": null,
   "id": "b21ffaf1-0099-46e1-9b17-1872fde28a8a",
   "metadata": {},
   "outputs": [],
   "source": [
    "#Method 1: SVM\n",
    "\n",
    "from sklearn.model_selection import train_test_split\n",
    "from sklearn.svm import SVC\n",
    "from sklearn.metrics import accuracy_score\n",
    "\n",
    "\n",
    "X = iac[['alt','dsea', 'at', 'pr']]  \n",
    "y = iac['aquifer_depth_str']\n",
    "\n",
    "# Split the dataset into training and testing sets\n",
    "X_train, X_test, y_train, y_test = train_test_split(X, y, test_size=0.3, random_state=4)\n",
    "\n",
    "\n",
    "print(\"X_train shape:\", X_train.shape)\n",
    "print(\"y_train shape:\", y_train.shape)\n",
    "print(\"X_test shape:\", X_test.shape)\n",
    "print(\"y_test shape:\", y_test.shape)\n",
    "\n",
    "# Create an SVM classifier\n",
    "svm_classifier = SVC(kernel='linear', C=1)\n",
    "\n",
    "\n",
    "svm_classifier.fit(X_train, y_train)\n",
    "\n",
    "\n",
    "y_pred = svm_classifier.predict(X_test)\n",
    "\n",
    "\n",
    "print(\"accuarcy score is : \", accuracy_score(y_test, y_pred))\n"
   ]
  },
  {
   "cell_type": "code",
   "execution_count": null,
   "id": "d96e183f-6429-4173-aa49-15a9b723a4c8",
   "metadata": {},
   "outputs": [],
   "source": [
    "#Method 2: Generalised Linear Model\n",
    "\n",
    "\"\"\"\n",
    "Need to work on this further - check the dataset for missing values\n",
    "\n",
    "\n",
    "\n",
    "model = smf.glm(formula = \"aquifer_depth ~ alt + dsea + at + pr\", \n",
    "                data = iac, \n",
    "                family = sm.families.Binomial())\n",
    "\n",
    "# Fit the model\n",
    "result = model.fit()\n",
    "# Display and interpret results\n",
    "print(result.summary())\n",
    "\n",
    "\"\"\"\n"
   ]
  },
  {
   "cell_type": "code",
   "execution_count": null,
   "id": "94c7e28c-ad3b-4e58-bca8-d1905844e3a4",
   "metadata": {},
   "outputs": [],
   "source": []
  }
 ],
 "metadata": {
  "kernelspec": {
   "display_name": "Python 3 (ipykernel)",
   "language": "python",
   "name": "python3"
  },
  "language_info": {
   "codemirror_mode": {
    "name": "ipython",
    "version": 3
   },
   "file_extension": ".py",
   "mimetype": "text/x-python",
   "name": "python",
   "nbconvert_exporter": "python",
   "pygments_lexer": "ipython3",
   "version": "3.12.1"
  }
 },
 "nbformat": 4,
 "nbformat_minor": 5
}
